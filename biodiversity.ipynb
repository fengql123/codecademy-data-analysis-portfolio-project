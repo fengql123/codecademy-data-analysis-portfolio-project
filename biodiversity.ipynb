{
 "cells": [
  {
   "cell_type": "markdown",
   "metadata": {},
   "source": [
    "# Introduction\n",
    "\n",
    "In this data analysis project, there are two datasets to work with, which are `observations` and `species_info`. The `observations` dataset is about the times that a certain species is observed in a park. The `species_info` contains the attributes of a certain species, these attributes are category, scientific_name, common_names and conservation_status.\n",
    "\n",
    "The questions that this project wants to answer:\n",
    "1. What is the distribution of conservation_status for animals?\n",
    "2. Are certain category more likely to be endangered?\n",
    "3. Are the differences between species and their conservation status significant?\n",
    "4. Which species were spotted the most at each park?"
   ]
  },
  {
   "cell_type": "markdown",
   "metadata": {},
   "source": [
    "## Importing necessary packages and Loading of data\n",
    "Tools needed:\n",
    "- numpy\n",
    "- pandas\n",
    "- matplotlib\n",
    "- seaborn\n",
    "***"
   ]
  },
  {
   "cell_type": "code",
   "execution_count": 16,
   "metadata": {},
   "outputs": [
    {
     "name": "stdout",
     "output_type": "stream",
     "text": [
      "            scientific_name                            park_name  observations\n",
      "0        Vicia benghalensis  Great Smoky Mountains National Park            68\n",
      "1            Neovison vison  Great Smoky Mountains National Park            77\n",
      "2         Prunus subcordata               Yosemite National Park           138\n",
      "3      Abutilon theophrasti                  Bryce National Park            84\n",
      "4  Githopsis specularioides  Great Smoky Mountains National Park            85\n",
      "  category                scientific_name  \\\n",
      "0   Mammal  Clethrionomys gapperi gapperi   \n",
      "1   Mammal                      Bos bison   \n",
      "2   Mammal                     Bos taurus   \n",
      "3   Mammal                     Ovis aries   \n",
      "4   Mammal                 Cervus elaphus   \n",
      "\n",
      "                                        common_names conservation_status  \n",
      "0                           Gapper's Red-Backed Vole                 NaN  \n",
      "1                              American Bison, Bison                 NaN  \n",
      "2  Aurochs, Aurochs, Domestic Cattle (Feral), Dom...                 NaN  \n",
      "3  Domestic Sheep, Mouflon, Red Sheep, Sheep (Feral)                 NaN  \n",
      "4                                      Wapiti Or Elk                 NaN  \n"
     ]
    }
   ],
   "source": [
    "import numpy as np\n",
    "import pandas as pd\n",
    "from matplotlib import pyplot as plt\n",
    "import seaborn as sns\n",
    "\n",
    "observations = pd.read_csv(\"observations.csv\")\n",
    "species_info = pd.read_csv(\"species_info.csv\")\n",
    "\n",
    "print(observations.head())\n",
    "print(species_info.head())"
   ]
  },
  {
   "cell_type": "markdown",
   "metadata": {},
   "source": [
    "## Data Diagnosis\n",
    "***"
   ]
  },
  {
   "cell_type": "code",
   "execution_count": 26,
   "metadata": {},
   "outputs": [
    {
     "name": "stdout",
     "output_type": "stream",
     "text": [
      "<class 'pandas.core.frame.DataFrame'>\n",
      "Int64Index: 23281 entries, 0 to 23295\n",
      "Data columns (total 3 columns):\n",
      " #   Column           Non-Null Count  Dtype \n",
      "---  ------           --------------  ----- \n",
      " 0   scientific_name  23281 non-null  object\n",
      " 1   park_name        23281 non-null  object\n",
      " 2   observations     23281 non-null  int64 \n",
      "dtypes: int64(1), object(2)\n",
      "memory usage: 727.5+ KB\n",
      "None\n",
      "       observations\n",
      "count  23281.000000\n",
      "mean     142.280357\n",
      "std       69.885439\n",
      "min        9.000000\n",
      "25%       86.000000\n",
      "50%      124.000000\n",
      "75%      195.000000\n",
      "max      321.000000\n",
      "[False]\n",
      "<class 'pandas.core.frame.DataFrame'>\n",
      "Int64Index: 5541 entries, 570 to 2957\n",
      "Data columns (total 4 columns):\n",
      " #   Column               Non-Null Count  Dtype \n",
      "---  ------               --------------  ----- \n",
      " 0   category             5541 non-null   object\n",
      " 1   scientific_name      5541 non-null   object\n",
      " 2   common_names         5541 non-null   object\n",
      " 3   conservation_status  178 non-null    object\n",
      "dtypes: object(4)\n",
      "memory usage: 216.4+ KB\n",
      "None\n",
      "[False]\n",
      "[False]\n",
      "['Endangered' 'In Recovery' 'Species of Concern' 'Threatened' nan]\n"
     ]
    }
   ],
   "source": [
    "print(observations.info())\n",
    "print(observations.describe())\n",
    "print(observations.duplicated().unique())\n",
    "print(species_info.info())\n",
    "print(species_info.duplicated().unique())\n",
    "print(species_info['scientific_name'].duplicated().unique())\n",
    "print(species_info['conservation_status'].unique())"
   ]
  },
  {
   "cell_type": "markdown",
   "metadata": {},
   "source": [
    "As shown above, both datasets do not have strange outliers. However, the `observations` dataset has duplicate rows as show by the `.duplicated` method. Hence, we will need to remove them by using `drop_duplicates()`. Also, the `species_info` dataset contains duplicates in the scientific_name column, even thought there is no duplicates when we apply `.duplicated to the whole dataset`. Hence we will need to remove the duplicates. Furthermore, the `species_info` data contains NaN values in the conservation_status column, which might requires a replacement of the NaN value to no status or a removal of those rows that contain nan values depending on the questions that we are trying to answer.\n",
    "***"
   ]
  },
  {
   "cell_type": "code",
   "execution_count": 34,
   "metadata": {},
   "outputs": [
    {
     "name": "stdout",
     "output_type": "stream",
     "text": [
      "[False]\n",
      "[False]\n",
      "['Endangered' 'In Recovery' 'Species of Concern' 'Threatened' nan]\n"
     ]
    }
   ],
   "source": [
    "observations = observations.drop_duplicates()\n",
    "## to ensure not dropping the rows with the correct values in conservation_status, we sort the data first\n",
    "species_info = species_info.sort_values(by='conservation_status')\n",
    "species_info.drop_duplicates(subset=['scientific_name'], keep='last', inplace=True)\n",
    "\n",
    "##checking that duplicates are removed\n",
    "print(observations.duplicated().unique())\n",
    "print(species_info['scientific_name'].duplicated().unique())\n",
    "print(species_info['conservation_status'].unique())"
   ]
  },
  {
   "cell_type": "markdown",
   "metadata": {},
   "source": [
    "## Analysis\n",
    "\n",
    "### What is the distribution of conservation_status for animals?\n",
    "I will use a bar plot to represent the distribution of the conservation_status for the animals. I will also remove the NaN values in conservation_status column since there are too many of them, which will affect the representation."
   ]
  },
  {
   "cell_type": "code",
   "execution_count": 54,
   "metadata": {},
   "outputs": [
    {
     "data": {
      "image/png": "[encoded data removed]",
      "text/plain": [
       "<Figure size 720x720 with 1 Axes>"
      ]
     },
     "metadata": {
      "needs_background": "light"
     },
     "output_type": "display_data"
    },
    {
     "name": "stdout",
     "output_type": "stream",
     "text": [
      "The number of No status is 5363.\n"
     ]
    }
   ],
   "source": [
    "species_info['conservation_status'].replace({np.nan: 'No status'}, inplace=True)\n",
    "temp = species_info.replace({'No status': np.nan}).dropna()\n",
    "##plot\n",
    "plt.figure(figsize=(10,10))\n",
    "ax = plt.subplot()\n",
    "sns.countplot(data=temp, x='conservation_status', order=temp['conservation_status'].value_counts(ascending=True).index)\n",
    "ax.set_yticks([len(species_info[species_info['conservation_status'] == 'Endangered']), len(species_info[species_info['conservation_status'] == 'In Recovery']), len(species_info[species_info['conservation_status'] == 'Species of Concern']), len(species_info[species_info['conservation_status'] == 'Threatened'])])\n",
    "plt.show()\n",
    "\n",
    "print('The number of No status is ' + str(len(species_info[species_info['conservation_status'] == 'No status'])) + '.')"
   ]
  },
  {
   "cell_type": "markdown",
   "metadata": {},
   "source": [
    "#### Conclusion\n",
    "This distribution shows that for the animals that have a conservation status, most of them are species of concern(151).\n",
    "***\n",
    "\n",
    "### Are certain category more likely to be endangered?"
   ]
  }
 ],
 "metadata": {
  "kernelspec": {
   "display_name": "Python 3 (ipykernel)",
   "language": "python",
   "name": "python3"
  },
  "language_info": {
   "codemirror_mode": {
    "name": "ipython",
    "version": 3
   },
   "file_extension": ".py",
   "mimetype": "text/x-python",
   "name": "python",
   "nbconvert_exporter": "python",
   "pygments_lexer": "ipython3",
   "version": "3.9.5"
  }
 },
 "nbformat": 4,
 "nbformat_minor": 4
}
